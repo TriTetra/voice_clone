{
  "cells": [
    {
      "cell_type": "markdown",
      "metadata": {
        "id": "view-in-github",
        "colab_type": "text"
      },
      "source": [
        "<a href=\"https://colab.research.google.com/github/TriTetra/voice_clone/blob/main/OpenVoice_colab.ipynb\" target=\"_parent\"><img src=\"https://colab.research.google.com/assets/colab-badge.svg\" alt=\"Open In Colab\"/></a>"
      ]
    },
    {
      "cell_type": "code",
      "execution_count": null,
      "metadata": {
        "id": "VjYy0F2gZIPR",
        "colab": {
          "base_uri": "https://localhost:8080/"
        },
        "outputId": "79da101e-1a24-42f3-abd9-e598fe00ae19"
      },
      "outputs": [
        {
          "output_type": "stream",
          "name": "stdout",
          "text": [
            "/content\n",
            "fatal: destination path 'OpenVoice' already exists and is not an empty directory.\n",
            "/content/OpenVoice\n",
            "aria2 is already the newest version (1.36.0-1).\n",
            "0 upgraded, 0 newly installed, 0 to remove and 35 not upgraded.\n",
            "\n",
            "Download Results:\n",
            "gid   |stat|avg speed  |path/URI\n",
            "======+====+===========+=======================================================\n",
            "115de7|\u001b[1;32mOK\u001b[0m  |       0B/s|/content/checkpoints_1226.zip\n",
            "\n",
            "Status Legend:\n",
            "(OK):download completed.\n",
            "Archive:  /content/checkpoints_1226.zip\n",
            "replace checkpoints/converter/config.json? [y]es, [n]o, [A]ll, [N]one, [r]ename: y\n",
            "  inflating: checkpoints/converter/config.json  \n",
            "replace checkpoints/converter/checkpoint.pth? [y]es, [n]o, [A]ll, [N]one, [r]ename: y\n",
            "  inflating: checkpoints/converter/checkpoint.pth  \n",
            "replace checkpoints/base_speakers/ZH/config.json? [y]es, [n]o, [A]ll, [N]one, [r]ename: y\n",
            "  inflating: checkpoints/base_speakers/ZH/config.json  \n",
            "replace checkpoints/base_speakers/ZH/checkpoint.pth? [y]es, [n]o, [A]ll, [N]one, [r]ename: y\n",
            "  inflating: checkpoints/base_speakers/ZH/checkpoint.pth  \n",
            "replace checkpoints/base_speakers/ZH/zh_default_se.pth? [y]es, [n]o, [A]ll, [N]one, [r]ename: y\n",
            "  inflating: checkpoints/base_speakers/ZH/zh_default_se.pth  \n",
            "replace checkpoints/base_speakers/EN/config.json? [y]es, [n]o, [A]ll, [N]one, [r]ename: y\n",
            "  inflating: checkpoints/base_speakers/EN/config.json  \n",
            "replace checkpoints/base_speakers/EN/en_style_se.pth? [y]es, [n]o, [A]ll, [N]one, [r]ename: y\n",
            "  inflating: checkpoints/base_speakers/EN/en_style_se.pth  \n",
            "replace checkpoints/base_speakers/EN/en_default_se.pth? [y]es, [n]o, [A]ll, [N]one, [r]ename: y\n",
            "  inflating: checkpoints/base_speakers/EN/en_default_se.pth  \n",
            "replace checkpoints/base_speakers/EN/checkpoint.pth? [y]es, [n]o, [A]ll, [N]one, [r]ename: y\n",
            "  inflating: checkpoints/base_speakers/EN/checkpoint.pth  y\n",
            "\n",
            "\u001b[33mWARNING: Ignoring invalid distribution ~vidia-cublas-cu12 (/usr/local/lib/python3.11/dist-packages)\u001b[0m\u001b[33m\n",
            "\u001b[0m\u001b[33mWARNING: Ignoring invalid distribution ~vidia-cublas-cu12 (/usr/local/lib/python3.11/dist-packages)\u001b[0m\u001b[33m\n",
            "\u001b[0m\u001b[33mWARNING: Ignoring invalid distribution ~vidia-cublas-cu12 (/usr/local/lib/python3.11/dist-packages)\u001b[0m\u001b[33m\n",
            "\u001b[0m\u001b[33m    WARNING: Ignoring invalid distribution ~vidia-cublas-cu12 (/usr/local/lib/python3.11/dist-packages)\u001b[0m\u001b[33m\n",
            "\u001b[0m\u001b[31mERROR: pip's dependency resolver does not currently take into account all the packages that are installed. This behaviour is the source of the following dependency conflicts.\n",
            "opencv-python-headless 4.12.0.88 requires numpy<2.3.0,>=2; python_version >= \"3.9\", but you have numpy 1.26.4 which is incompatible.\n",
            "yfinance 0.2.65 requires websockets>=13.0, but you have websockets 11.0.3 which is incompatible.\n",
            "thinc 8.3.6 requires numpy<3.0.0,>=2.0.0, but you have numpy 1.26.4 which is incompatible.\u001b[0m\u001b[31m\n",
            "\u001b[0m/usr/local/lib/python3.11/dist-packages/torch/nn/utils/weight_norm.py:143: FutureWarning: `torch.nn.utils.weight_norm` is deprecated in favor of `torch.nn.utils.parametrizations.weight_norm`.\n",
            "  WeightNorm.apply(module, name, dim)\n",
            "Loaded checkpoint 'checkpoints/base_speakers/EN/checkpoint.pth'\n",
            "missing/unexpected keys: [] []\n",
            "Loaded checkpoint 'checkpoints/base_speakers/ZH/checkpoint.pth'\n",
            "missing/unexpected keys: [] []\n",
            "Loaded checkpoint 'checkpoints/converter/checkpoint.pth'\n",
            "missing/unexpected keys: [] []\n",
            "/usr/local/lib/python3.11/dist-packages/gradio/components/dropdown.py:103: UserWarning: The `max_choices` parameter is ignored when `multiselect` is False.\n",
            "  warnings.warn(\n",
            "Running on local URL:  http://127.0.0.1:7860\n",
            "Running on public URL: https://eb7f3733f5cda72b69.gradio.live\n",
            "\n",
            "This share link expires in 72 hours. For free permanent hosting and GPU upgrades, run `gradio deploy` from Terminal to deploy to Spaces (https://huggingface.co/spaces)\n"
          ]
        }
      ],
      "source": [
        "%cd /content\n",
        "!git clone -b dev https://github.com/camenduru/OpenVoice\n",
        "%cd /content/OpenVoice\n",
        "\n",
        "!apt -y install -qq aria2\n",
        "!aria2c --console-log-level=error -c -x 16 -s 16 -k 1M https://huggingface.co/camenduru/OpenVoice/resolve/main/checkpoints_1226.zip -d /content -o checkpoints_1226.zip\n",
        "!unzip /content/checkpoints_1226.zip\n",
        "\n",
        "!pip install -q gradio==3.50.2 langid faster-whisper whisper-timestamped unidecode eng-to-ipa pypinyin cn2an\n",
        "\n",
        "!python openvoice_app.py --share"
      ]
    },
    {
      "cell_type": "code",
      "source": [],
      "metadata": {
        "id": "pDDXdox1Z6As"
      },
      "execution_count": null,
      "outputs": []
    }
  ],
  "metadata": {
    "accelerator": "GPU",
    "colab": {
      "gpuType": "T4",
      "provenance": [],
      "include_colab_link": true
    },
    "kernelspec": {
      "display_name": "Python 3",
      "name": "python3"
    },
    "language_info": {
      "name": "python"
    }
  },
  "nbformat": 4,
  "nbformat_minor": 0
}